{
  "nbformat": 4,
  "nbformat_minor": 0,
  "metadata": {
    "colab": {
      "name": "VideoconvertintoImageFrames",
      "private_outputs": true,
      "provenance": [],
      "collapsed_sections": []
    },
    "kernelspec": {
      "name": "python3",
      "display_name": "Python 3"
    },
    "language_info": {
      "name": "python"
    },
    "accelerator": "GPU"
  },
  "cells": [
    {
      "cell_type": "markdown",
      "source": [
        "## Video file converted to Image frames\n",
        "This script converts a video file into discrete image frames that are only used to develop Custom Object detection."
      ],
      "metadata": {
        "id": "ubJ_e01eexuk"
      }
    },
    {
      "cell_type": "markdown",
      "source": [
        "Step 1:  created required folders and uploads video files"
      ],
      "metadata": {
        "id": "2j8ZFxz62LKA"
      }
    },
    {
      "cell_type": "code",
      "source": [
        "# Below library included \n",
        "import os\n",
        "import cv2 as cv\n",
        "from time import time\n",
        "from skimage.metrics import structural_similarity\n",
        "import shutil\n",
        "import glob\n",
        "\n",
        "# common variable alue assigned here\n",
        "Projpath='/content/RSDD2022'\n",
        "Videofilepath='/content/RSDD2022/Video'\n",
        "Outputpath='/content/RSDD2022/Output/'\n",
        "Uniqueframepath='/content/RSDD2022/Uniqueframes'\n",
        "Videofilename='/content/RSDD2022/Video/samplevideo.mp4'\n",
        "\n",
        "def structure_create():\n",
        "  if not os.path.isdir(Projpath):\n",
        "    os.mkdir(Projpath) # project folder name\n",
        "  if not os.path.isdir(Videofilepath):\n",
        "    os.mkdir(Videofilepath)  # load video file to be convert to frames\n",
        "  if not os.path.isdir(Uniqueframepath):\n",
        "    os.mkdir(Uniqueframepath) # Distinct frames are in this folder\n",
        "  if not os.path.isdir(Outputpath):\n",
        "    os.mkdir(Outputpath) # the converted frames are in this folder\n",
        "structure_create()\n",
        "print(\"Directory structure created\" )"
      ],
      "metadata": {
        "id": "h4cdwTN4wTlS"
      },
      "execution_count": null,
      "outputs": []
    },
    {
      "cell_type": "markdown",
      "source": [
        "step 2:  converted video file into image frame with custom names \n"
      ],
      "metadata": {
        "id": "8hZEmvo72X3f"
      }
    },
    {
      "cell_type": "code",
      "source": [
        "def switch(cnt):\n",
        "  s=''\n",
        "  if cnt==0 :\n",
        "   s= \"00000\"\n",
        "  elif cnt <10 and cnt>0:\n",
        "   s= \"0000\"+str(cnt)\n",
        "  elif cnt <100 and cnt>9:\n",
        "    s=\"000\"+str(cnt)\n",
        "  elif cnt <1000 and cnt>99:\n",
        "    s=\"00\"+str(cnt)\n",
        "  elif cnt <10000 and cnt>990:\n",
        "    s=\"0\"+str(cnt)\n",
        "  else :\n",
        "     s=str(cnt)\n",
        "  return s \n",
        "\n",
        "file = Videofilename\n",
        "# outpath = Outputpath\n",
        "os.chdir(Videofilepath)\n",
        "targetpath = Outputpath\n",
        "\n",
        "# if not os.path.exists(folder_path):\n",
        "#   os.mkdir(folder_path)\n",
        "\n",
        "cap = cv.VideoCapture(file)\n",
        "total_frame = int(cap.get(cv.CAP_PROP_FRAME_COUNT))\n",
        "\n",
        "# save the frame on every given seconds\n",
        "seconds = 0.5\n",
        "fps = cap.get(cv.CAP_PROP_FPS) # Gets the frames per second\n",
        "# calculates number of frames that creates 10 seconds of video\n",
        "multiplier = fps * seconds\n",
        "\n",
        "# Check if camera opened successfully\n",
        "if (cap.isOpened()== False):\n",
        "  print(\"Error opening video stream or file\")\n",
        "\n",
        "frame_counter = 1\n",
        "wframe=1\n",
        "\n",
        "while frame_counter <= total_frame:\n",
        "  cap.set(cv.CAP_PROP_POS_FRAMES, frame_counter)\n",
        "  ret, frame = cap.read()\n",
        "  # save frame  # file path\n",
        "  file_path = targetpath+'frame_'+ switch(wframe) + \".jpg\"\n",
        "  cv.imwrite(file_path, frame)\n",
        "  frame_counter += multiplier\n",
        "  wframe += 1\n",
        "\n"
      ],
      "metadata": {
        "id": "h6kvJxNYfPgn"
      },
      "execution_count": null,
      "outputs": []
    },
    {
      "cell_type": "markdown",
      "source": [
        "step 3:Remove duplicated image frames "
      ],
      "metadata": {
        "id": "glz2H5NCfV9p"
      }
    },
    {
      "cell_type": "code",
      "source": [
        "sourcepath=Outputpath\n",
        "targetpath=Uniqueframepath\n",
        "\n",
        "# Get list of all files including sub-directory also.\n",
        "list_of_files = sorted( filter( os.path.isfile,\n",
        "                        glob.glob(sourcepath + '/**/*', recursive=True) ) )\n",
        "i=0\n",
        "flag=True\n",
        "while i <= len(list_of_files)-2 :\n",
        "  im1=list_of_files[i]\n",
        "  im1=im1.split('/')\n",
        "  im2=list_of_files[i+1]\n",
        "  im2=im2.split('/')\n",
        "  print(\"images compared : {} vs {}\".format(im1[-1],im2[-1]))\n",
        "  image1 = cv2.imread(list_of_files[i], 0)\n",
        "  image2 = cv2.imread(list_of_files[i+1],0)\n",
        "# Compute SSIM between the two images\n",
        "  if image1.shape == image2.shape :\n",
        "    (score, diff) = structural_similarity(image1, image2, full=True)\n",
        "    if (score*100) < 60:\n",
        "      try:\n",
        "        shutil.copy(list_of_files[i], targetpath)\n",
        "        shutil.copy(list_of_files[i+1], targetpath)\n",
        "        i += 1"
        "      # If source and destination are same\n",
        "      except shutil.SameFileError:\n",
        "        print(\"Source and destination represents the same file.\")\n",
        "  i += 1"
      ],
      "metadata": {
        "id": "-Tka4bQZ2CND"
      },
      "execution_count": null,
      "outputs": []
    },
    {
      "cell_type": "markdown",
      "source": [
        "step 4: summary"
      ],
      "metadata": {
        "id": "Q7tj5OCS3mhd"
      }
    },
    {
      "cell_type": "code",
      "source": [
        "# to find fps of video\n",
        "# https://www.reddit.com/r/Python/comments/c9dkuj/how_to_get_fps_of_a_video_file/\n",
        "cap = cv.VideoCapture(Videofilename)\n",
        "fps = cap.get(cv.CAP_PROP_FPS)   \n",
        "frame_count = int(cap.get(cv.CAP_PROP_FRAME_COUNT))\n",
        "duration = frame_count/fps\n",
        "\n",
        "print('fps = ' + str(fps))\n",
        "print('number of frames = ' + str(frame_count))\n",
        "print('duration (S) = ' + str(duration))\n",
        "minutes = int(duration/60)\n",
        "seconds = duration%60\n",
        "print('duration (M:S) = ' + str(minutes) + ':' + str(seconds))\n",
        "cap.release()\n",
        "\n",
        "total_frames = sorted( filter( os.path.isfile,\n",
        "                        glob.glob(Outputpath + '/**/*', recursive=True) ) )\n",
        "unique_frames = sorted( filter( os.path.isfile,\n",
        "                        glob.glob(Uniqueframepath + '/**/*', recursive=True) ) )\n",
        "print('Total number of converted Image frames: ',len(total_frames))\n",
        "print('Total number of distinct Image frames : ',len(unique_frames))"
      ],
      "metadata": {
        "id": "z56mJHtvFrPE"
      },
      "execution_count": null,
      "outputs": []
    }
  ]
}
