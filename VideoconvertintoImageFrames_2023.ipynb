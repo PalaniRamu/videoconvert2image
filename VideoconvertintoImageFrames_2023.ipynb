{
  "nbformat": 4,
  "nbformat_minor": 0,
  "metadata": {
    "colab": {
      "private_outputs": true,
      "provenance": []
    },
    "kernelspec": {
      "name": "python3",
      "display_name": "Python 3"
    },
    "language_info": {
      "name": "python"
    },
    "accelerator": "GPU"
  },
  "cells": [
    {
      "cell_type": "markdown",
      "source": [
        "## Video file converted to Image frames\n",
        "This script converts a video file into discrete image frames that are only used to develop Custom Object detection."
      ],
      "metadata": {
        "id": "ubJ_e01eexuk"
      }
    },
    {
      "cell_type": "markdown",
      "source": [
        "Step 1:  created required folders and uploads video files"
      ],
      "metadata": {
        "id": "2j8ZFxz62LKA"
      }
    },
    {
      "cell_type": "code",
      "source": [
        "# Below library included \n",
        "import os\n",
        "import cv2 as cv\n",
        "from time import time\n",
        "from skimage.metrics import structural_similarity\n",
        "import shutil\n",
        "import glob\n",
        "\n",
        "# common variable alue assigned here\n",
        "Projpath='/content/RSDD2022'\n",
        "Videofilepath='/content/RSDD2022/Video'\n",
        "Outputpath='/content/RSDD2022/Output/'\n",
        "Uniqueframepath='/content/RSDD2022/Uniqueframes'\n",
        "\n",
        "def structure_create():\n",
        "  if not os.path.isdir(Projpath):\n",
        "    os.mkdir(Projpath) # project folder name\n",
        "  if not os.path.isdir(Videofilepath):\n",
        "    os.mkdir(Videofilepath)  # load video file to be convert to frames\n",
        "  if not os.path.isdir(Uniqueframepath):\n",
        "    os.mkdir(Uniqueframepath) # Distinct frames are in this folder\n",
        "  if not os.path.isdir(Outputpath):\n",
        "    os.mkdir(Outputpath) # the converted frames are in this folder\n",
        "\n",
        "structure_create()\n",
        "print(\"Directory structure created\" )"
      ],
      "metadata": {
        "id": "h4cdwTN4wTlS"
      },
      "execution_count": null,
      "outputs": []
    },
    {
      "cell_type": "code",
      "source": [
        "\"\"\" \n",
        "step 2:  converted video file into image frame with custom names \n",
        "\"\"\"\n",
        "Videofilename='/content/RSDD2022/Video/testvideo_3.mp4'\n",
        "\n",
        "def switch(cnt):\n",
        "  s=''\n",
        "  if cnt==0 :\n",
        "   s= \"00000\"\n",
        "  elif cnt <10 and cnt>0:\n",
        "   s= \"0000\"+str(cnt)\n",
        "  elif cnt <100 and cnt>9:\n",
        "    s=\"000\"+str(cnt)\n",
        "  elif cnt <1000 and cnt>99:\n",
        "    s=\"00\"+str(cnt)\n",
        "  elif cnt <10000 and cnt>990:\n",
        "    s=\"0\"+str(cnt)\n",
        "  else :\n",
        "     s=str(cnt)\n",
        "  return s \n",
        "\n",
        "file = Videofilename\n",
        "outpath = Outputpath\n",
        "os.chdir(Videofilepath)\n",
        "targetpath = Outputpath\n",
        "\n",
        "shutil.rmtree('/content/RSDD2022/Output')\n",
        "\n",
        "if not os.path.exists(outpath):\n",
        "  os.mkdir(outpath)\n",
        "\n",
        "cap = cv.VideoCapture(file)\n",
        "total_frame = int(cap.get(cv.CAP_PROP_FRAME_COUNT))\n",
        "\n",
        "# save the frame on every given seconds\n",
        "seconds = 0.5\n",
        "fps = cap.get(cv.CAP_PROP_FPS) # Gets the frames per second\n",
        "# calculates number of frames that creates 10 seconds of video\n",
        "multiplier = fps * seconds\n",
        "\n",
        "# Check if camera opened successfully\n",
        "if (cap.isOpened()== False):\n",
        "  print(\"Error opening video stream or file\")\n",
        "frame_counter = 1\n",
        "wframe=1\n",
        "while frame_counter <= total_frame:\n",
        "  cap.set(cv.CAP_PROP_POS_FRAMES, frame_counter)\n",
        "  ret, frame = cap.read()\n",
        "  #print('Ret {}'.format(ret) )\n",
        "  if ret:\n",
        "    # save frame  # file path\n",
        "    file_path = targetpath+'frame_'+ switch(wframe) + \".jpg\"\n",
        "    cv.imwrite(file_path, frame)\n",
        "  frame_counter += multiplier\n",
        "  wframe += 1\n",
        "cap.release()\n",
        "cv.destroyAllWindows()\n",
        "\n"
      ],
      "metadata": {
        "id": "h6kvJxNYfPgn"
      },
      "execution_count": null,
      "outputs": []
    },
    {
      "cell_type": "code",
      "source": [
        "\"\"\" \n",
        "step 3:  Distinct images copied into folder uniqueframes\n",
        "\"\"\"\n",
        "import os\n",
        "import cv2 as cv\n",
        "from time import time\n",
        "from skimage.metrics import structural_similarity\n",
        "import shutil\n",
        "import glob\n",
        "\n",
        "sourcepath=Outputpath\n",
        "targetpath=Uniqueframepath\n",
        "\n",
        "shutil.rmtree('/content/RSDD2022/Uniqueframes')\n",
        "\n",
        "if not os.path.exists(targetpath):\n",
        "  os.mkdir(targetpath)\n",
        "\n",
        "# Get list of all files including sub-directory also.\n",
        "list_of_files = sorted( filter( os.path.isfile,\n",
        "                        glob.glob(sourcepath + '/**/*', recursive=True) ) )\n",
        "i=0\n",
        "flag=True\n",
        "while i <= len(list_of_files)-2 :\n",
        "  im1=list_of_files[i]\n",
        "  im1=im1.split('/')\n",
        "  im2=list_of_files[i+1]\n",
        "  im2=im2.split('/')\n",
        "  #print(\"images compared : {} vs {}\".format(im1[-1],im2[-1]))\n",
        "  image1 = cv.imread(list_of_files[i], 0)\n",
        "  image2 = cv.imread(list_of_files[i+1],0)\n",
        "# Compute SSIM between the two images\n",
        "  if image1.shape == image2.shape :\n",
        "    (score, diff) = structural_similarity(image1, image2, full=True)\n",
        "    #print( ' sore value{} '.format(score))\n",
        "    if (score*100) < 60:\n",
        "      try:\n",
        "        shutil.copy(list_of_files[i], targetpath)\n",
        "        shutil.copy(list_of_files[i+1], targetpath)\n",
        "        i += 1\n",
        "      # If source and destination are same\n",
        "      except shutil.SameFileError:\n",
        "        shutil.copy(list_of_files[i+1], targetpath)\n",
        "        print(\"Source and destination represents the same file.\")\n",
        "  i += 1"
      ],
      "metadata": {
        "id": "-Tka4bQZ2CND"
      },
      "execution_count": null,
      "outputs": []
    },
    {
      "cell_type": "code",
      "source": [
        "\"\"\"\n",
        "Summary information of Distinct frame process\n",
        "\"\"\"\n",
        "# to find fps of video\n",
        "# https://www.reddit.com/r/Python/comments/c9dkuj/how_to_get_fps_of_a_video_file/\n",
        "\n",
        "cap = cv.VideoCapture(Videofilename)\n",
        "fps = cap.get(cv.CAP_PROP_FPS)   \n",
        "frame_count = int(cap.get(cv.CAP_PROP_FRAME_COUNT))\n",
        "duration = frame_count/fps\n",
        "\n",
        "print('fps = ' + str(fps))\n",
        "print('number of frames = ' + str(frame_count))\n",
        "print('duration (S) = ' + str(duration))\n",
        "minutes = int(duration/60)\n",
        "seconds = duration%60\n",
        "print('duration (M:S) = ' + str(minutes) + ':' + str(seconds))\n",
        "cap.release()\n",
        "\n",
        "total_frames = sorted( filter( os.path.isfile,\n",
        "                        glob.glob(Outputpath + '/**/*', recursive=True) ) )\n",
        "unique_frames = sorted( filter( os.path.isfile,\n",
        "                        glob.glob(Uniqueframepath + '/**/*', recursive=True) ) )\n",
        "print('Total number of converted Image frames: ',len(total_frames))\n",
        "print('Total number of distinct Image frames : ',len(unique_frames))"
      ],
      "metadata": {
        "id": "z56mJHtvFrPE"
      },
      "execution_count": null,
      "outputs": []
    },
    {
      "cell_type": "code",
      "source": [
        "# from PIL import Image\n",
        "# im = Image.open(\"/content/RSDD2022/Uniqueframes/frame_00010.jpg\")\n",
        "# im.rotate(45).show()"
      ],
      "metadata": {
        "id": "SXpZBctQbf5Z"
      },
      "execution_count": null,
      "outputs": []
    },
    {
      "cell_type": "code",
      "source": [
        "# import shutil\n",
        "# shutil.rmtree('/content/RSDD2022/Uniqueframes')\n",
        "# #shutil.rmtree('/content/RSDD2022/Output')\n",
        "# #shutil.rmtree('/content/Video/src/')\n",
        "\n"
      ],
      "metadata": {
        "id": "Xz2vqp3cIAW5"
      },
      "execution_count": null,
      "outputs": []
    }
  ]
}